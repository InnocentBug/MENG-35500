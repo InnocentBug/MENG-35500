{
 "cells": [
  {
   "cell_type": "markdown",
   "metadata": {
    "id": "p49wJ0IjLAVD"
   },
   "source": [
    "\n",
    "# Setup of the environment"
   ]
  },
  {
   "cell_type": "markdown",
   "metadata": {
    "id": "WM_9PpDwKuoA"
   },
   "source": [
    "First, we are setting up our environment. We use an already compiled and \n",
    "packaged installation of HOOMD-blue and OpenMM. It is custom and comes with the plugins that are needed for PySAGES for advanced sampling. We copy it from google drive and install pysages for it. We also have a google collab that performs this installation for reference. This is however meant as an explanation of how to install these tools in your own environment.\n",
    "\n",
    "For your own work, you can use the same environment if you want to work with google colab or install HOOMD-blue with the installation instructions from the [documentation](https://hoomd-blue.readthedocs.io/en/stable/installation.html) and use local Jupyter notebooks or python scripts.\n"
   ]
  },
  {
   "cell_type": "code",
   "execution_count": 1,
   "metadata": {
    "id": "nMThqa-DjVcb"
   },
   "outputs": [],
   "source": [
    "%%bash\n",
    "\n",
    "BASE_URL=\"https://drive.google.com/u/0/uc?id=1hsKkKtdxZTVfHKgqVF6qV2e-4SShmhr7&export=download\"\n",
    "wget -q --load-cookies /tmp/cookies.txt \"$BASE_URL&confirm=$(wget -q --save-cookies /tmp/cookies.txt --keep-session-cookies --no-check-certificate $BASE_URL -O- | sed -rn 's/.*confirm=(\\w+).*/\\1\\n/p')\" -O pysages-env.zip\n",
    "rm -rf /tmp/cookies.txt"
   ]
  },
  {
   "cell_type": "code",
   "execution_count": 2,
   "metadata": {
    "colab": {
     "base_uri": "https://localhost:8080/"
    },
    "id": "25H3kl03wzJe",
    "outputId": "e0f68c85-9253-43b5-f68a-392393e86e13"
   },
   "outputs": [
    {
     "name": "stdout",
     "output_type": "stream",
     "text": [
      "env: PYSAGES_ENV=/env/pysages\n"
     ]
    }
   ],
   "source": [
    "%env PYSAGES_ENV=/env/pysages"
   ]
  },
  {
   "cell_type": "code",
   "execution_count": 3,
   "metadata": {
    "id": "CPkgxfj6w4te"
   },
   "outputs": [],
   "source": [
    "%%bash\n",
    "\n",
    "mkdir -p $PYSAGES_ENV\n",
    "unzip -qquo pysages-env.zip -d $PYSAGES_ENV"
   ]
  },
  {
   "cell_type": "code",
   "execution_count": 4,
   "metadata": {
    "id": "JMO5fiRTxAWB"
   },
   "outputs": [],
   "source": [
    "import os\n",
    "import sys\n",
    "\n",
    "ver = sys.version_info\n",
    "\n",
    "sys.path.append(os.environ[\"PYSAGES_ENV\"] + \"/lib/python\" + str(ver.major) + \".\" + str(ver.minor) + \"/site-packages/\")"
   ]
  },
  {
   "cell_type": "code",
   "execution_count": 5,
   "metadata": {
    "colab": {
     "base_uri": "https://localhost:8080/"
    },
    "id": "Qrd0g908yFZt",
    "outputId": "de404695-1c7f-4327-c301-03204a43653f"
   },
   "outputs": [
    {
     "name": "stdout",
     "output_type": "stream",
     "text": [
      "HOOMD-blue v2.9.7 CUDA (11.1) DOUBLE HPMC_MIXED SSE SSE2 \n",
      "Compiled: 01/26/2022\n",
      "Copyright (c) 2009-2019 The Regents of the University of Michigan.\n",
      "-----\n",
      "You are using HOOMD-blue. Please cite the following:\n",
      "* J A Anderson, J Glaser, and S C Glotzer. \"HOOMD-blue: A Python package for\n",
      "  high-performance molecular dynamics and hard particle Monte Carlo\n",
      "  simulations\", Computational Materials Science 173 (2020) 109363\n",
      "-----\n",
      "HOOMD-blue is running on the following GPU(s):\n",
      " [0]              Tesla T4  40 SM_7.5 @ 1.59 GHz, 15109 MiB DRAM, MNG\n"
     ]
    },
    {
     "data": {
      "text/plain": [
       "<hoomd.context.SimulationContext at 0x7fc910274bd0>"
      ]
     },
     "execution_count": 5,
     "metadata": {},
     "output_type": "execute_result"
    }
   ],
   "source": [
    "import hoomd\n",
    "import hoomd.md\n",
    "import numpy as np\n",
    "from numpy import sqrt, pi\n",
    "hoomd.context.initialize(\"\")"
   ]
  },
  {
   "cell_type": "markdown",
   "metadata": {
    "id": "Y0nUxjlkzxFj"
   },
   "source": [
    "HOOMD-blue 2 operates with fixed context for the entire runtime, which also determines the available hardware. So our first step is to initialize this context."
   ]
  },
  {
   "cell_type": "code",
   "execution_count": 6,
   "metadata": {
    "colab": {
     "base_uri": "https://localhost:8080/"
    },
    "id": "EVqV_81izwXw",
    "outputId": "11542cd7-b51f-4931-c9b4-9be96dc04378"
   },
   "outputs": [
    {
     "data": {
      "text/plain": [
       "<hoomd.context.SimulationContext at 0x7fc8be0a65d0>"
      ]
     },
     "execution_count": 6,
     "metadata": {},
     "output_type": "execute_result"
    }
   ],
   "source": [
    "hoomd.context.initialize(\"\")"
   ]
  },
  {
   "cell_type": "markdown",
   "metadata": {
    "id": "b-lE1uxP0DbQ"
   },
   "source": [
    "The output informs us about version information, essential for reproducibility.\n",
    "And who are the authors of the software and which paper we should cite if we useHOOMD-blue for research.\n",
    "\n",
    "After that, we are informed which hardware could be detected and HOOMD-blue is running on."
   ]
  },
  {
   "cell_type": "markdown",
   "metadata": {
    "id": "v97i6xNLno0D"
   },
   "source": [
    "# Butane simulation\n",
    "\n",
    "After we explored a system of abstract/coarse-grained nature we are investigating now an all-atom system of [Butane](https://en.wikipedia.org/wiki/Butane).\n",
    "This tutorial is inspired by the original [SSAGES tutorial](https://github.com/SSAGESproject/SSAGES/tree/release-0.9/Examples/User/Umbrella/HOOMD) and adjust the SSAGES tutorial for PySAGES.\n",
    "\n",
    "The biggest difference between such a detailed system is that the force-field of all-atom simulations is more complex. Each bead needs to be identified with the appropriate force-field parameter and the interactions (especially non-bonded interactions) are stiffer than before. This requires more care when setting up the initial conditions to avoid overlaps of the individual atoms.\n",
    "\n",
    "This tutorial is meant as a demonstration. Do not use this forcefield for research. We will later see how accurate forcefields can be obtained.\n",
    "\n",
    "Here we set up the initial conditions from a HOOMD-blue snapshot."
   ]
  },
  {
   "cell_type": "code",
   "execution_count": 7,
   "metadata": {
    "id": "pQA3DdRepwGJ"
   },
   "outputs": [],
   "source": [
    "snapshot = hoomd.data.make_snapshot(N=14,\n",
    "                                    box=hoomd.data.boxdim(Lx=41, Ly=41, Lz=41),\n",
    "                                    particle_types=['C', 'H'],\n",
    "                                    bond_types=['CC', 'CH'],\n",
    "                                    angle_types=['CCC', 'CCH', 'HCH'],\n",
    "                                    dihedral_types=['CCCC', 'HCCC', 'HCCH'],\n",
    "                                    pair_types=['CCCC', 'HCCC', 'HCCH'])"
   ]
  },
  {
   "cell_type": "markdown",
   "metadata": {
    "id": "BccxD_0w_3EP"
   },
   "source": [
    "This snapshot contains 14 particles and we have to assign which particle represents a C-atom and which particle is an H-atom."
   ]
  },
  {
   "cell_type": "code",
   "execution_count": 8,
   "metadata": {
    "id": "EVU5jqoG_4pR"
   },
   "outputs": [],
   "source": [
    "snapshot.particles.typeid[0] = 0\n",
    "snapshot.particles.typeid[1:4] = 1\n",
    "snapshot.particles.typeid[4] = 0\n",
    "snapshot.particles.typeid[5:7] = 1\n",
    "snapshot.particles.typeid[7] = 0\n",
    "snapshot.particles.typeid[8:10] = 1\n",
    "snapshot.particles.typeid[10] = 0\n",
    "snapshot.particles.typeid[11:14] = 1\n",
    "\n"
   ]
  },
  {
   "cell_type": "markdown",
   "metadata": {
    "id": "HeJNkA4GAcgy"
   },
   "source": [
    "We also assign each of the atoms an initial condition. Information about the good initial condition for molecules can be generated for example via [RDkit](https://rdkit.org/) or for a biological system from the [protein databank](https://www.rcsb.org/), or via a small custom MC simulation. Here we are fortunate to have some valid initial positions."
   ]
  },
  {
   "cell_type": "code",
   "execution_count": 9,
   "metadata": {
    "id": "rAdVHbdtAXeg"
   },
   "outputs": [],
   "source": [
    "  positions = np.array([\n",
    "      [-2.990196,  0.097881,  0.000091],\n",
    "      [-2.634894, -0.911406,  0.001002],\n",
    "      [-2.632173,  0.601251, -0.873601],\n",
    "      [-4.060195,  0.099327, -0.000736],\n",
    "      [-2.476854,  0.823942,  1.257436],\n",
    "      [-2.832157,  1.833228,  1.256526],\n",
    "      [-2.834877,  0.320572,  2.131128],\n",
    "      [-0.936856,  0.821861,  1.258628],\n",
    "      [-0.578833,  1.325231,  0.384935],\n",
    "      [-0.581553, -0.187426,  1.259538],\n",
    "      [-0.423514,  1.547922,  2.515972],\n",
    "      [-0.781537,  1.044552,  3.389664],\n",
    "      [ 0.646485,  1.546476,  2.516800],\n",
    "      [-0.778816,  2.557208,  2.515062]])\n",
    "\n",
    "  reference_box_low_coords = np.array([-22.206855, -19.677099, -19.241968])\n",
    "  box_low_coords = np.array([-snapshot.box.Lx/2,\n",
    "                             -snapshot.box.Ly/2,\n",
    "                             -snapshot.box.Lz/2])\n",
    "  positions += (box_low_coords - reference_box_low_coords)\n",
    "\n",
    "  snapshot.particles.position[:] = positions[:]\n",
    "  "
   ]
  },
  {
   "cell_type": "markdown",
   "metadata": {
    "id": "i4m0sVz8AXUk"
   },
   "source": [
    "Next are masses and charges. Note how this automatically chooses the unit system for the simulations."
   ]
  },
  {
   "cell_type": "code",
   "execution_count": 10,
   "metadata": {
    "id": "kmhU4IkZNBl4"
   },
   "outputs": [],
   "source": [
    "mC = 12.00\n",
    "mH = 1.008\n",
    "snapshot.particles.mass[:] = [mC, mH, mH, mH,\n",
    "                              mC, mH, mH,\n",
    "                              mC, mH, mH,\n",
    "                              mC, mH, mH, mH]\n",
    "reference_charges = np.array([-0.180000, 0.060000, 0.060000, 0.060000,\n",
    "                              -0.120000, 0.060000, 0.060000,\n",
    "                              -0.120000, 0.060000, 0.060000,\n",
    "                              -0.180000, 0.060000, 0.060000, 0.060000])\n",
    "charge_conversion = 18.22262\n",
    "snapshot.particles.charge[:] = charge_conversion * reference_charges[:]"
   ]
  },
  {
   "cell_type": "markdown",
   "metadata": {
    "id": "IvRvQXLqq6jt"
   },
   "source": [
    "The next step is to set up the bond potentials and assign the different bond types to the individual bonds. We are also using angle potentials, dihedrals, and special pairs for the interaction of this molecule. See the hoomd documentation for details."
   ]
  },
  {
   "cell_type": "code",
   "execution_count": 11,
   "metadata": {
    "id": "fgqge-dKM9bB"
   },
   "outputs": [],
   "source": [
    "snapshot.bonds.resize(13)\n",
    "snapshot.bonds.typeid[0:3] = 1\n",
    "snapshot.bonds.typeid[3] = 0\n",
    "snapshot.bonds.typeid[4:6] = 1\n",
    "snapshot.bonds.typeid[6] = 0\n",
    "snapshot.bonds.typeid[7:9] = 1\n",
    "snapshot.bonds.typeid[9] = 0\n",
    "snapshot.bonds.typeid[10:13] = 1\n",
    "\n",
    "snapshot.bonds.group[:] = [[0, 2], [0, 1], [0, 3], [0, 4],\n",
    "                           [4, 5], [4, 6], [4, 7],\n",
    "                           [7, 8], [7, 9], [7, 10],\n",
    "                           [10, 11], [10, 12], [10, 13]]\n",
    "\n",
    "snapshot.angles.resize(24)\n",
    "snapshot.angles.typeid[0:2] = 2\n",
    "snapshot.angles.typeid[2] = 1\n",
    "snapshot.angles.typeid[3] = 2\n",
    "snapshot.angles.typeid[4:8] = 1\n",
    "snapshot.angles.typeid[8] = 0\n",
    "snapshot.angles.typeid[9] = 2\n",
    "snapshot.angles.typeid[10:14] = 1\n",
    "snapshot.angles.typeid[14] = 0\n",
    "snapshot.angles.typeid[15] = 2\n",
    "snapshot.angles.typeid[16:21] = 1\n",
    "snapshot.angles.typeid[21:24] = 2\n",
    "\n",
    "snapshot.angles.group[:] = [[1, 0, 2], [2, 0, 3], [2, 0, 4],\n",
    "                            [1, 0, 3], [1, 0, 4], [3, 0, 4],\n",
    "                            [0, 4, 5], [0, 4, 6], [0, 4, 7],\n",
    "                            [5, 4, 6], [5, 4, 7], [6, 4, 7],\n",
    "                            [4, 7, 8], [4, 7, 9], [4, 7, 10],\n",
    "                            [8, 7, 9], [8, 7, 10], [9, 7, 10],\n",
    "                            [7, 10, 11], [7, 10, 12], [7, 10, 13],\n",
    "                            [11, 10, 12], [11, 10, 13], [12, 10, 13]]\n",
    "\n",
    "snapshot.dihedrals.resize(27)\n",
    "snapshot.dihedrals.typeid[0:2] = 2\n",
    "snapshot.dihedrals.typeid[2] = 1\n",
    "snapshot.dihedrals.typeid[3:5] = 2\n",
    "snapshot.dihedrals.typeid[5] = 1\n",
    "snapshot.dihedrals.typeid[6:8] = 2\n",
    "snapshot.dihedrals.typeid[8:11] = 1\n",
    "snapshot.dihedrals.typeid[11] = 0\n",
    "snapshot.dihedrals.typeid[12:14] = 2\n",
    "snapshot.dihedrals.typeid[14] = 1\n",
    "snapshot.dihedrals.typeid[15:17] = 2\n",
    "snapshot.dihedrals.typeid[17:21] = 1\n",
    "snapshot.dihedrals.typeid[21:27] = 2\n",
    "\n",
    "snapshot.dihedrals.group[:] = [[2, 0, 4, 5], [2, 0, 4, 6], [2, 0, 4, 7],\n",
    "                               [1, 0, 4, 5], [1, 0, 4, 6], [1, 0, 4, 7],\n",
    "                               [3, 0, 4, 5], [3, 0, 4, 6], [3, 0, 4, 7],\n",
    "                               [0, 4, 7, 8], [0, 4, 7, 9], [0, 4, 7, 10],\n",
    "                               [5, 4, 7, 8], [5, 4, 7, 9], [5, 4, 7, 10],\n",
    "                               [6, 4, 7, 8], [6, 4, 7, 9], [6, 4, 7, 10],\n",
    "                               [4, 7, 10, 11], [4, 7, 10, 12], [4, 7, 10, 13],\n",
    "                               [8, 7, 10, 11], [8, 7, 10, 12], [8, 7, 10, 13],\n",
    "                               [9, 7, 10, 11], [9, 7, 10, 12], [9, 7, 10, 13]]\n",
    "\n",
    "snapshot.pairs.resize(27)\n",
    "snapshot.pairs.typeid[0:1] = 0\n",
    "snapshot.pairs.typeid[1:11] = 1\n",
    "snapshot.pairs.typeid[11:27] = 2\n",
    "snapshot.pairs.group[:] = [\n",
    "    # CCCC\n",
    "    [0, 10],\n",
    "    # HCCC\n",
    "    [0, 8], [0, 9], [5, 10], [6, 10],\n",
    "    [1, 7], [2, 7], [3, 7],\n",
    "    [11, 4], [12, 4], [13, 4],\n",
    "    # HCCH\n",
    "    [1, 5], [1, 6], [2, 5], [2, 6], [3, 5], [3, 6],\n",
    "    [5, 8], [6, 8], [5, 9], [6, 9],\n",
    "    [8, 11], [8, 12], [8, 13], [9, 11], [9, 12], [9, 13]\n",
    "]"
   ]
  },
  {
   "cell_type": "markdown",
   "metadata": {
    "id": "W9nDKFWrsPJL"
   },
   "source": [
    "## Simulation setup\n",
    "\n",
    "As before after we obtained the snapshot we are initializing the actual simulation setup.\n",
    "Because of the more complicated nature of all-atom butane, we need a more complex forcefield. The potentials and their parameter are part of the forcefield. For now, we just accept them, we will later see how to obtain actual forcefields for molecules."
   ]
  },
  {
   "cell_type": "code",
   "execution_count": 12,
   "metadata": {
    "colab": {
     "base_uri": "https://localhost:8080/"
    },
    "id": "onu9MNuXzQNT",
    "outputId": "e9aa966e-dbac-40d7-9c02-5b79d2e336dd"
   },
   "outputs": [
    {
     "name": "stdout",
     "output_type": "stream",
     "text": [
      "notice(2): Group \"all\" created containing 14 particles\n",
      "notice(2): -- Neighborlist exclusion statistics -- :\n",
      "notice(2): Particles with 7 exclusions             : 6\n",
      "notice(2): Particles with 10 exclusions             : 6\n",
      "notice(2): Particles with 13 exclusions             : 2\n",
      "notice(2): Neighbors included by diameter          : no\n",
      "notice(2): Neighbors excluded when in the same body: no\n",
      "notice(2): Group \"charged\" created containing 14 particles\n",
      "-----\n",
      "You are using PPPM. Please cite the following:\n",
      "* D N LeBard, B G Levine, S A Barr, A Jusufi, S Sanders, M L Klein, and A Z\n",
      "  Panagiotopoulos. \"Self-assembly of coarse-grained ionic surfactants\n",
      "  accelerated by graphics processing units\", Journal of Computational Physics 8\n",
      "  (2012) 2385-2397\n",
      "-----\n"
     ]
    }
   ],
   "source": [
    "system = hoomd.init.read_snapshot(snapshot)\n",
    "\n",
    "#Neighbor list, reset some of HOOMD's automatic exclusion rules.\n",
    "nl_ex = hoomd.md.nlist.cell()\n",
    "nl_ex.reset_exclusions(exclusions=['1-2', '1-3', '1-4'])\n",
    "\n",
    "# Base non-bonded interactions: Lennard-Jones, that parameters are in simulation units and part of the forcefield.\n",
    "lj = hoomd.md.pair.lj(r_cut=12.0, nlist=nl_ex)\n",
    "lj.pair_coeff.set('C', 'C', epsilon=0.07, sigma=3.55)\n",
    "lj.pair_coeff.set('H', 'H', epsilon=0.03, sigma=2.42)\n",
    "lj.pair_coeff.set('C', 'H', epsilon=sqrt(0.07*0.03), sigma=sqrt(3.55*2.42))\n",
    "\n",
    "# For all-atom system the partial charge interactions are important.\n",
    "coulomb = hoomd.md.charge.pppm(hoomd.group.charged(), nlist=nl_ex)\n",
    "# Parameters for the Ewald summation\n",
    "coulomb.set_params(Nx=64, Ny=64, Nz=64, order=6, rcut=12.0)\n",
    "\n",
    "# Bond potentials are harmonic\n",
    "harmonic = hoomd.md.bond.harmonic()\n",
    "harmonic.bond_coeff.set('CC', k=2*268.0, r0=1.529)\n",
    "harmonic.bond_coeff.set('CH', k=2*340.0, r0=1.09)\n",
    "\n",
    "# Angle potentials\n",
    "angle = hoomd.md.angle.harmonic()\n",
    "angle.angle_coeff.set('CCC', k=2*58.35, t0=112.7 * pi / 180)\n",
    "angle.angle_coeff.set('CCH', k=2*37.5, t0=110.7 * pi / 180)\n",
    "angle.angle_coeff.set('HCH', k=2*33.0, t0=107.8 * pi / 180)\n",
    "\n",
    "# Dihedrals \n",
    "dihedral = hoomd.md.dihedral.opls()\n",
    "dihedral.dihedral_coeff.set('CCCC', k1=1.3, k2=-0.05, k3=0.2, k4=0.0)\n",
    "dihedral.dihedral_coeff.set('HCCC', k1=0.0, k2=0.0, k3=0.3, k4=0.0)\n",
    "dihedral.dihedral_coeff.set('HCCH', k1=0.0, k2=0.0, k3=0.3, k4=0.0)\n",
    "\n",
    "# These are special LJ particle pairs, that are treated like bonded. LJ just better performance\n",
    "lj_special_pairs = hoomd.md.special_pair.lj()\n",
    "lj_special_pairs.pair_coeff.set('CCCC', epsilon=0.07, sigma=3.55, r_cut=12.0)\n",
    "lj_special_pairs.pair_coeff.set('HCCH', epsilon=0.03, sigma=2.42, r_cut=12.0)\n",
    "lj_special_pairs.pair_coeff.set('HCCC', epsilon=sqrt(0.07 * 0.03),\n",
    "                                sigma=sqrt(3.55*2.42), r_cut=12.0)\n",
    "\n",
    "coulomb_special_pairs = hoomd.md.special_pair.coulomb()\n",
    "coulomb_special_pairs.pair_coeff.set('CCCC', alpha=0.5, r_cut=12.0)\n",
    "coulomb_special_pairs.pair_coeff.set('HCCC', alpha=0.5, r_cut=12.0)\n",
    "coulomb_special_pairs.pair_coeff.set('HCCH', alpha=0.5, r_cut=12.0)"
   ]
  },
  {
   "cell_type": "markdown",
   "metadata": {
    "id": "E04RypAKIa_X"
   },
   "source": [
    "Next is the integrator. We choose Nose-Hover again."
   ]
  },
  {
   "cell_type": "code",
   "execution_count": 13,
   "metadata": {
    "id": "AakEHD9lJ2R_"
   },
   "outputs": [],
   "source": [
    "kT = 0.596161\n",
    "dt = 0.02045\n",
    "hoomd.md.integrate.mode_standard(dt=dt)\n",
    "integrator = hoomd.md.integrate.nvt(group=hoomd.group.all(), kT=kT, tau=100*dt)"
   ]
  },
  {
   "cell_type": "markdown",
   "metadata": {
    "id": "QNsLGYvaJ8jA"
   },
   "source": [
    "We also would like to log some quantities calculated on the fly and the trajectory."
   ]
  },
  {
   "cell_type": "code",
   "execution_count": 14,
   "metadata": {
    "colab": {
     "base_uri": "https://localhost:8080/"
    },
    "id": "s0DVXEX_J43N",
    "outputId": "0e0136b2-6da0-4eb8-fc04-59630e247188"
   },
   "outputs": [
    {
     "data": {
      "text/plain": [
       "<hoomd.dump.gsd at 0x7fc8b3d8ef10>"
      ]
     },
     "execution_count": 14,
     "metadata": {},
     "output_type": "execute_result"
    }
   ],
   "source": [
    "quantities_request = ['time', 'temperature',\"pressure\",'potential_energy','kinetic_energy']\n",
    "hoomd.analyze.log(\"obs.txt\", quantities_request, period=100, overwrite=True)\n",
    "hoomd.dump.gsd(\"traj.gsd\", 1e3, hoomd.group.all(), overwrite=True)"
   ]
  },
  {
   "cell_type": "markdown",
   "metadata": {
    "id": "m8cRkXV_K5F-"
   },
   "source": [
    "And now, we run the simultions."
   ]
  },
  {
   "cell_type": "code",
   "execution_count": 15,
   "metadata": {
    "colab": {
     "base_uri": "https://localhost:8080/"
    },
    "id": "EXlGGmk5K11k",
    "outputId": "7464844e-81fa-4ec6-a4b1-d76bce34924a"
   },
   "outputs": [
    {
     "name": "stdout",
     "output_type": "stream",
     "text": [
      "** starting run **\n",
      "notice(2): charge.pppm: RMS error: 1.29239e-08\n",
      "Time 00:00:10 | Step 9041 / 100000 | TPS 904.052 | ETA 00:01:40\n",
      "Time 00:00:20 | Step 20916 / 100000 | TPS 1187.41 | ETA 00:01:06\n",
      "Time 00:00:30 | Step 32768 / 100000 | TPS 1185.15 | ETA 00:00:56\n",
      "Time 00:00:40 | Step 44601 / 100000 | TPS 1183.29 | ETA 00:00:46\n",
      "Time 00:00:50 | Step 56428 / 100000 | TPS 1182.69 | ETA 00:00:36\n",
      "Time 00:01:00 | Step 68247 / 100000 | TPS 1181.85 | ETA 00:00:26\n",
      "Time 00:01:10 | Step 80061 / 100000 | TPS 1181.36 | ETA 00:00:16\n",
      "Time 00:01:20 | Step 91746 / 100000 | TPS 1168.41 | ETA 00:00:07\n",
      "Time 00:01:27 | Step 100000 / 100000 | TPS 1181.87 | ETA 00:00:00\n",
      "Average TPS: 1149.57\n",
      "---------\n",
      "-- Neighborlist stats:\n",
      "14647 normal updates / 334 forced updates / 0 dangerous updates\n",
      "n_neigh_min: 0 / n_neigh_max: 6 / n_neigh_avg: 3.85714\n",
      "shortest rebuild period: 2\n",
      "-- Cell list stats:\n",
      "Dimension: 3, 3, 3\n",
      "n_min    : 0 / n_max: 14 / n_avg: 0.518519\n",
      "** run complete **\n"
     ]
    }
   ],
   "source": [
    "timesteps = 1e5\n",
    "hoomd.run(timesteps)"
   ]
  },
  {
   "cell_type": "markdown",
   "metadata": {
    "id": "y_FMMdaqODOS"
   },
   "source": [
    "And from here we can visualize and analyze the trajectory.\n",
    "\n",
    "However, setting the forcefields up manually is a challenging task that we address in more detail next."
   ]
  }
 ],
 "metadata": {
  "accelerator": "GPU",
  "colab": {
   "collapsed_sections": [
    "Bj0t7S1rcPoT"
   ],
   "name": "MENG35500-Butane.ipynb",
   "provenance": []
  },
  "jupytext": {
   "formats": "ipynb,md",
   "main_language": "python"
  },
  "kernelspec": {
   "display_name": "Python 3",
   "name": "python3"
  },
  "language_info": {
   "name": "python"
  }
 },
 "nbformat": 4,
 "nbformat_minor": 0
}
