{
 "cells": [
  {
   "cell_type": "markdown",
   "metadata": {
    "id": "p49wJ0IjLAVD"
   },
   "source": [
    "\n",
    "# Setup of the environment"
   ]
  },
  {
   "cell_type": "markdown",
   "metadata": {
    "id": "WM_9PpDwKuoA"
   },
   "source": [
    "First, we are setting up our environment. We use an already compiled and \n",
    "packaged installation of HOOMD-blue and OpenMM. It is custom and comes with the plugins that are needed for PySAGES for advanced sampling. We copy it from google drive and install pysages for it. We also have a google collab that performs this installation for reference. This is however meant as an explanation of how to install these tools in your environment.\n",
    "\n",
    "For your work, you can use the same environment if you want to work with google colab or install HOOMD-blue with the installation instructions from the [documentation](https://hoomd-blue.readthedocs.io/en/stable/installation.html) and use local Jupyter notebooks or python scripts.\n"
   ]
  },
  {
   "cell_type": "code",
   "execution_count": 1,
   "metadata": {
    "id": "nMThqa-DjVcb"
   },
   "outputs": [],
   "source": [
    "%%bash\n",
    "\n",
    "BASE_URL=\"https://drive.google.com/u/0/uc?id=1hsKkKtdxZTVfHKgqVF6qV2e-4SShmhr7&export=download\"\n",
    "wget -q --load-cookies /tmp/cookies.txt \"$BASE_URL&confirm=$(wget -q --save-cookies /tmp/cookies.txt --keep-session-cookies --no-check-certificate $BASE_URL -O- | sed -rn 's/.*confirm=(\\w+).*/\\1\\n/p')\" -O pysages-env.zip\n",
    "rm -rf /tmp/cookies.txt"
   ]
  },
  {
   "cell_type": "code",
   "execution_count": 2,
   "metadata": {
    "colab": {
     "base_uri": "https://localhost:8080/"
    },
    "id": "25H3kl03wzJe",
    "outputId": "14f0f14d-946d-42d3-ae99-974c3c5e87a9"
   },
   "outputs": [
    {
     "name": "stdout",
     "output_type": "stream",
     "text": [
      "env: PYSAGES_ENV=/env/pysages\n"
     ]
    }
   ],
   "source": [
    "%env PYSAGES_ENV=/env/pysages"
   ]
  },
  {
   "cell_type": "code",
   "execution_count": 3,
   "metadata": {
    "id": "CPkgxfj6w4te"
   },
   "outputs": [],
   "source": [
    "%%bash\n",
    "\n",
    "mkdir -p $PYSAGES_ENV\n",
    "unzip -qquo pysages-env.zip -d $PYSAGES_ENV"
   ]
  },
  {
   "cell_type": "code",
   "execution_count": 4,
   "metadata": {
    "id": "JMO5fiRTxAWB"
   },
   "outputs": [],
   "source": [
    "import os\n",
    "import sys\n",
    "\n",
    "ver = sys.version_info\n",
    "\n",
    "sys.path.append(os.environ[\"PYSAGES_ENV\"] + \"/lib/python\" + str(ver.major) + \".\" + str(ver.minor) + \"/site-packages/\")"
   ]
  },
  {
   "cell_type": "markdown",
   "metadata": {
    "id": "bXVUTurBjFaH"
   },
   "source": [
    "# HOOMD-blue\n",
    "\n",
    "For this part of the lecture, we introduce common molecular dynamics simulation engines. We start with HOOMD-blue which is an engine centered around the use of GPUs and developed with a python frontend. We are going to use version 2.X for this lecture. There is a new version available 3.X soon, that integrates even tighter with Python.\n",
    "\n",
    "The homepage of HOOMD-blue can be found [here](https://glotzerlab.engin.umich.edu/hoomd-blue/). It is actively developed on github.com [here](https://github.com/glotzerlab/hoomd-blue) and has an excellent documentation [here](https://hoomd-blue.readthedocs.io/en/stable/package-hoomd.html).\n",
    "Take some time and start exploring the documentation. It has good examples and explains different parts of the code well. In the context of this course it makes to focus on the core `hoomd` and the `hoomd.md` package."
   ]
  },
  {
   "cell_type": "code",
   "execution_count": 5,
   "metadata": {
    "id": "Qrd0g908yFZt"
   },
   "outputs": [],
   "source": [
    "import hoomd\n",
    "import hoomd.md\n",
    "import numpy as np"
   ]
  },
  {
   "cell_type": "markdown",
   "metadata": {
    "id": "Y0nUxjlkzxFj"
   },
   "source": [
    "HOOMD-blue 2 operates with fixed context for the entire runtime, which also determines the available hardware. So our first step is to initialize this context."
   ]
  },
  {
   "cell_type": "code",
   "execution_count": 6,
   "metadata": {
    "colab": {
     "base_uri": "https://localhost:8080/"
    },
    "id": "EVqV_81izwXw",
    "outputId": "6d4a162f-8a4b-433a-a897-88c2a973dd6d"
   },
   "outputs": [
    {
     "name": "stdout",
     "output_type": "stream",
     "text": [
      "HOOMD-blue v2.9.7 CUDA (11.1) DOUBLE HPMC_MIXED SSE SSE2 \n",
      "Compiled: 01/26/2022\n",
      "Copyright (c) 2009-2019 The Regents of the University of Michigan.\n",
      "-----\n",
      "You are using HOOMD-blue. Please cite the following:\n",
      "* J A Anderson, J Glaser, and S C Glotzer. \"HOOMD-blue: A Python package for\n",
      "  high-performance molecular dynamics and hard particle Monte Carlo\n",
      "  simulations\", Computational Materials Science 173 (2020) 109363\n",
      "-----\n",
      "HOOMD-blue is running on the following GPU(s):\n",
      " [0]              Tesla T4  40 SM_7.5 @ 1.59 GHz, 15109 MiB DRAM, MNG\n"
     ]
    },
    {
     "data": {
      "text/plain": [
       "<hoomd.context.SimulationContext at 0x7f081a2039d0>"
      ]
     },
     "execution_count": 6,
     "metadata": {},
     "output_type": "execute_result"
    }
   ],
   "source": [
    "hoomd.context.initialize(\"\")"
   ]
  },
  {
   "cell_type": "markdown",
   "metadata": {
    "id": "b-lE1uxP0DbQ"
   },
   "source": [
    "The output informs us about version information, essential for reproducibility.\n",
    "And who are the authors of the software and which paper we should cite if we use HOOMD-blue for research.\n",
    "\n",
    "After that, we are informed which hardware could be detected and HOOMD-blue is running on."
   ]
  },
  {
   "cell_type": "markdown",
   "metadata": {
    "id": "M4X20ddQxcbZ"
   },
   "source": [
    "## Simulation of soft, coarse-grained polymers\n",
    "\n",
    "We start with a familiar system. A melt of polymer chains densely fills the simulation box. The first step is to obtain the initial position of all chains.\n",
    "One way to obtain this for HOOMD-blue is to generate a simulation snapshot and populate the snapshot with the values you are interested in.\n",
    "\n",
    "Here we set up a system of 25 polymer chains with chain lengths $N=35$ each.\n",
    "\n",
    "### Generation of initial conditions"
   ]
  },
  {
   "cell_type": "code",
   "execution_count": 7,
   "metadata": {
    "id": "6sqwsd6ZzMlI"
   },
   "outputs": [],
   "source": [
    "n = 25\n",
    "N = 35\n",
    "L = 4\n",
    "b0 = 0.75\n",
    "snapshot = hoomd.data.make_snapshot(N=n*N,\n",
    "                                    box=hoomd.data.boxdim(Lx=L, Ly=L, Lz=L),\n",
    "                                    particle_types=['A'],\n",
    "                                    bond_types=['backbone'])"
   ]
  },
  {
   "cell_type": "markdown",
   "metadata": {
    "id": "5elC4Pd-0jXx"
   },
   "source": [
    "Now we set up the initial position of each of the polymers. We do that, by randomly selecting the position of the first bead and growing the chain with the ideal gas distribution from there."
   ]
  },
  {
   "cell_type": "code",
   "execution_count": 8,
   "metadata": {
    "colab": {
     "base_uri": "https://localhost:8080/"
    },
    "id": "TKWK-eQM0i_A",
    "outputId": "12bf38b5-71e0-4474-b39d-8ba35541c281"
   },
   "outputs": [
    {
     "name": "stdout",
     "output_type": "stream",
     "text": [
      "[[ 1.09582419 -0.24448624  1.43439168]\n",
      " [ 1.80124773 -1.70776263  0.45775705]\n",
      " [ 1.89712803 -1.94494458  0.44515618]\n",
      " ...\n",
      " [ 9.29086361  5.27150454 -6.16330615]\n",
      " [ 9.98864701  4.69308192 -4.92027406]\n",
      " [ 9.47522999  4.18076307 -3.76725589]]\n"
     ]
    }
   ],
   "source": [
    "np_seed = 42\n",
    "np_rng = np.random.default_rng(np_seed)\n",
    "\n",
    "np_pos = np.zeros((n,N, 3))\n",
    "for poly in range(n):\n",
    "  np_pos[poly, 0] = np_rng.uniform(-L/2, L/2, (3,))\n",
    "  for mono in range(1, N):\n",
    "    # add gaussian distribution to previous bead pos.\n",
    "    np_pos[poly, mono] = np_pos[poly, mono-1] + np_rng.normal(0, b0, (3,))\n",
    "# HOOMD-blue does not know about polymers, so we reshape the positions to be a single array\n",
    "np_pos = np_pos.reshape((n*N, 3))\n",
    "print(np_pos)"
   ]
  },
  {
   "cell_type": "markdown",
   "metadata": {
    "id": "5G7DW6qx29sj"
   },
   "source": [
    "These positions are a great initial condition for beads, however, we have not respected the periodic boundary conditions with them so far. So we correct the periodic boundary conditions and remember which periodic image each particle belongs to."
   ]
  },
  {
   "cell_type": "code",
   "execution_count": 9,
   "metadata": {
    "colab": {
     "base_uri": "https://localhost:8080/"
    },
    "id": "A8UEgKu53U_n",
    "outputId": "0ee594fd-d263-4ac4-f535-afef52194474"
   },
   "outputs": [
    {
     "name": "stdout",
     "output_type": "stream",
     "text": [
      "[[ 0  0  0]\n",
      " [ 0  0  0]\n",
      " [ 0  0  0]\n",
      " ...\n",
      " [ 2  1 -2]\n",
      " [ 2  1 -1]\n",
      " [ 2  1 -1]]\n",
      "[[ 1.0958242  -0.24448624  1.4343917 ]\n",
      " [ 1.8012477  -1.7077626   0.45775706]\n",
      " [ 1.897128   -1.9449446   0.4451562 ]\n",
      " ...\n",
      " [ 1.2908636   1.2715045   1.8366939 ]\n",
      " [ 1.988647    0.6930819  -0.9202741 ]\n",
      " [ 1.47523     0.18076307  0.23274411]]\n"
     ]
    }
   ],
   "source": [
    "box_L = np.asarray([L, L, L])\n",
    "np_image = np.rint(np_pos / box_L).astype(int)\n",
    "np_pos -= np_image * box_L\n",
    "\n",
    "snapshot.particles.position[:] = np_pos\n",
    "snapshot.particles.image[:] = np_image\n",
    "\n",
    "print(snapshot.particles.image)\n",
    "print(snapshot.particles.position)"
   ]
  },
  {
   "cell_type": "markdown",
   "metadata": {
    "id": "ATDHIqRl4jwN"
   },
   "source": [
    "We see that the first polymer was well within the box, but the last polymer was partly outside the box and has been folded back into the box.\n",
    "\n",
    "Next are the bonds. We need to connect all the beads along with the individual polymers. In total we have $n(N-1)$ bonds."
   ]
  },
  {
   "cell_type": "code",
   "execution_count": 10,
   "metadata": {
    "colab": {
     "base_uri": "https://localhost:8080/"
    },
    "id": "5dnvlDRV5alR",
    "outputId": "d19b7749-5fa9-48c1-f20d-009e0e405d2b"
   },
   "outputs": [
    {
     "name": "stdout",
     "output_type": "stream",
     "text": [
      "[[  0   1]\n",
      " [  1   2]\n",
      " [  2   3]\n",
      " ...\n",
      " [871 872]\n",
      " [872 873]\n",
      " [873 874]]\n"
     ]
    }
   ],
   "source": [
    "snapshot.bonds.resize(n*(N-1))\n",
    "# All bonds have the same interatin parameter, so they are of type `backbone` = 0\n",
    "snapshot.bonds.typeid[:] = np.zeros(snapshot.bonds.N, dtype=int)\n",
    "# Now we add the bonds as necessary\n",
    "bonds = []\n",
    "for poly in range(n):\n",
    "  for mono in range(1, N):\n",
    "    bond = np.asarray([mono-1, mono], dtype=int)\n",
    "    # Shift to global particle index\n",
    "    bond += poly*N\n",
    "    bonds.append(bond)\n",
    "\n",
    "snapshot.bonds.group[:] = bonds\n",
    "print(snapshot.bonds.group)"
   ]
  },
  {
   "cell_type": "markdown",
   "metadata": {
    "id": "ntsNkRRA7YP5"
   },
   "source": [
    "As initial velocity, we choose the Maxwell-Boltzmann distribution."
   ]
  },
  {
   "cell_type": "code",
   "execution_count": 11,
   "metadata": {
    "colab": {
     "base_uri": "https://localhost:8080/"
    },
    "id": "IpAICi3H7XqI",
    "outputId": "7d297603-a2f4-4238-dde7-0c5f089694ae"
   },
   "outputs": [
    {
     "name": "stdout",
     "output_type": "stream",
     "text": [
      "[[ 0.21146016 -0.5520247  -0.15513313]\n",
      " [ 1.3530736   1.4662029  -0.8167932 ]\n",
      " [-0.04243381  0.09015683 -0.9862401 ]\n",
      " ...\n",
      " [-0.18561094  0.8488665  -0.69876343]\n",
      " [ 0.7886111   0.8222293   1.0549561 ]\n",
      " [ 0.140541    3.241259    1.0545337 ]]\n"
     ]
    }
   ],
   "source": [
    "snapshot.particles.velocity[:] = np_rng.normal(0, 1., (n*N, 3))\n",
    "print(snapshot.particles.velocity)"
   ]
  },
  {
   "cell_type": "markdown",
   "metadata": {
    "id": "hyS8eE2g7vfr"
   },
   "source": [
    "We do not have to assign masses, since we leave all particles with the standard mass of 1.\n",
    "\n",
    "### Simulation Setup"
   ]
  },
  {
   "cell_type": "code",
   "execution_count": 12,
   "metadata": {
    "colab": {
     "base_uri": "https://localhost:8080/"
    },
    "id": "OsEBNyn19ApZ",
    "outputId": "69e1e069-191c-4bdf-a048-9e8166dcedae"
   },
   "outputs": [
    {
     "name": "stdout",
     "output_type": "stream",
     "text": [
      "notice(2): Group \"all\" created containing 875 particles\n"
     ]
    }
   ],
   "source": [
    "system = hoomd.init.read_snapshot(snapshot)"
   ]
  },
  {
   "cell_type": "markdown",
   "metadata": {
    "id": "2kt0pmis-RGQ"
   },
   "source": [
    "For effective calculation of non-bonded forces, we need a Verlet-Neighbor list. We use the standard list here, which uses a grid for fast computation."
   ]
  },
  {
   "cell_type": "code",
   "execution_count": 13,
   "metadata": {
    "id": "NglMGhnm-fRh"
   },
   "outputs": [],
   "source": [
    "nl = hoomd.md.nlist.cell()"
   ]
  },
  {
   "cell_type": "markdown",
   "metadata": {
    "id": "QQyHVJuR9Ifs"
   },
   "source": [
    "We need to define the interaction between the particles.\n",
    "As non-bonded forces with choose the soft DPD potential, which has the shape $V(r) = A\\cdot (r_\\text{cut} - r) - 0.5 A/r_\\text{cut} (r_\\text{cut}^2 - r^2)$ for distances smaller than $r_\\text{cut}$ and zero otherwise.\n",
    "We use the conservative form here because we don't want the DPD thermostat, instead, we choose Nose-Hover later for the NVT ensemble. "
   ]
  },
  {
   "cell_type": "code",
   "execution_count": 14,
   "metadata": {
    "colab": {
     "base_uri": "https://localhost:8080/"
    },
    "id": "v77UDb8N9HrE",
    "outputId": "5b6bfc2b-6c84-4276-9685-ada2dad8a72c"
   },
   "outputs": [
    {
     "name": "stdout",
     "output_type": "stream",
     "text": [
      "-----\n",
      "You are using DPD. Please cite the following:\n",
      "* C L Phillips, J A Anderson, and S C Glotzer. \"Pseudo-random number generation\n",
      "  for Brownian Dynamics and Dissipative Particle Dynamics simulations on GPU\n",
      "  devices\", Journal of Computational Physics 230 (2011) 7191--7201\n",
      "-----\n"
     ]
    }
   ],
   "source": [
    "dpd = hoomd.md.pair.dpd_conservative(r_cut=1, nlist=nl)\n",
    "dpd.pair_coeff.set(\"A\", \"A\", A=5.0)"
   ]
  },
  {
   "cell_type": "markdown",
   "metadata": {
    "id": "gt7UGtwr45s_"
   },
   "source": [
    "The next step is to setup a bonded potential for the interaction between beads along the chain. We choose the harmonic potential $V(r) = k/2 (r-r_0)^2$ with a resting length $r_0 = 0$ and k that corresponds to the chosen $k = 3/b_0^2$."
   ]
  },
  {
   "cell_type": "code",
   "execution_count": 15,
   "metadata": {
    "id": "LSgCUDyV45Cs"
   },
   "outputs": [],
   "source": [
    "harmonic = hoomd.md.bond.harmonic()\n",
    "harmonic.bond_coeff.set(\"backbone\", k = 3./b0**2, r0=0)"
   ]
  },
  {
   "cell_type": "markdown",
   "metadata": {
    "id": "NRqeha1P7mSZ"
   },
   "source": [
    "Next, we choose an integrator and the time step. As an integrator, we use NVT integration, which means for HOOMD-blue two-step Velocity-Verlet integration with a Nose-Hover thermostat."
   ]
  },
  {
   "cell_type": "code",
   "execution_count": 16,
   "metadata": {
    "colab": {
     "base_uri": "https://localhost:8080/"
    },
    "id": "gEfD8s0H88b7",
    "outputId": "07b2ccea-0d6c-4479-9c5c-f317f91395fe"
   },
   "outputs": [
    {
     "data": {
      "text/plain": [
       "<hoomd.md.integrate.nvt at 0x7f07bf80b4d0>"
      ]
     },
     "execution_count": 16,
     "metadata": {},
     "output_type": "execute_result"
    }
   ],
   "source": [
    "dt=1e-3\n",
    "hoomd.md.integrate.mode_standard(dt=dt)\n",
    "hoomd.md.integrate.nvt(hoomd.group.all(), kT=1.0, tau=1.0)"
   ]
  },
  {
   "cell_type": "markdown",
   "metadata": {
    "id": "-135fr8q9gNT"
   },
   "source": [
    "We do not only want to run the simulation, but we also would like to measure some properties during the simulation run. Hoomd has a logging system implemented that allows you to write observables to disk during the simulation run. Hoomd-blue has common observables implemented but lets user also specify their own observables. "
   ]
  },
  {
   "cell_type": "code",
   "execution_count": 17,
   "metadata": {
    "colab": {
     "base_uri": "https://localhost:8080/"
    },
    "id": "-QWo5uDh-k3O",
    "outputId": "9321ea5a-e68e-43c4-eac6-360c034654ca"
   },
   "outputs": [
    {
     "data": {
      "text/plain": [
       "<hoomd.analyze.log at 0x7f07bf7e8d10>"
      ]
     },
     "execution_count": 17,
     "metadata": {},
     "output_type": "execute_result"
    }
   ],
   "source": [
    "quantities_request = ['time', 'temperature',\"pressure\",'potential_energy','kinetic_energy', \"bond_harmonic_energy\"]\n",
    "hoomd.analyze.log(\"obs.txt\", quantities_request, period=100, overwrite=True)"
   ]
  },
  {
   "cell_type": "markdown",
   "metadata": {
    "id": "JASGrFHD9gKJ"
   },
   "source": [
    "We also want to log a trajectory, that contains all particle positions, bond information, etc. This is primarily useful for visualization and post-processing for more observables. We write the data in Hoomd's data format [gsd](https://gsd.readthedocs.io/en/stable/)."
   ]
  },
  {
   "cell_type": "code",
   "execution_count": 18,
   "metadata": {
    "colab": {
     "base_uri": "https://localhost:8080/"
    },
    "id": "S6NRmrS0_mWO",
    "outputId": "738b2032-3ae9-41ce-d58f-4abb97b4f9a0"
   },
   "outputs": [
    {
     "data": {
      "text/plain": [
       "<hoomd.dump.gsd at 0x7f07bf792d10>"
      ]
     },
     "execution_count": 18,
     "metadata": {},
     "output_type": "execute_result"
    }
   ],
   "source": [
    "hoomd.dump.gsd(\"traj.gsd\", 1e3, hoomd.group.all(), overwrite=True)"
   ]
  },
  {
   "cell_type": "markdown",
   "metadata": {
    "id": "PuZhE13gALGj"
   },
   "source": [
    "Now we can simulate a given number of time steps."
   ]
  },
  {
   "cell_type": "code",
   "execution_count": 19,
   "metadata": {
    "colab": {
     "base_uri": "https://localhost:8080/"
    },
    "id": "jdFVKJhAAKnx",
    "outputId": "83c0ef09-096f-4e75-ec97-4e564c187ba1"
   },
   "outputs": [
    {
     "name": "stdout",
     "output_type": "stream",
     "text": [
      "notice(2): -- Neighborlist exclusion statistics -- :\n",
      "notice(2): Particles with 1 exclusions             : 50\n",
      "notice(2): Particles with 2 exclusions             : 825\n",
      "notice(2): Neighbors included by diameter          : no\n",
      "notice(2): Neighbors excluded when in the same body: no\n",
      "** starting run **\n",
      "Time 00:00:10 | Step 44508 / 500000 | TPS 4450.79 | ETA 00:01:42\n",
      "Time 00:00:20 | Step 110726 / 500000 | TPS 6621.73 | ETA 00:00:58\n",
      "Time 00:00:30 | Step 177734 / 500000 | TPS 6700.78 | ETA 00:00:48\n",
      "Time 00:00:40 | Step 243990 / 500000 | TPS 6625.56 | ETA 00:00:38\n",
      "Time 00:00:50 | Step 310469 / 500000 | TPS 6647.82 | ETA 00:00:28\n",
      "Time 00:01:00 | Step 380635 / 500000 | TPS 7016.55 | ETA 00:00:17\n",
      "Time 00:01:10 | Step 447642 / 500000 | TPS 6700.63 | ETA 00:00:07\n",
      "Time 00:01:17 | Step 500000 / 500000 | TPS 7006.92 | ETA 00:00:00\n",
      "Average TPS: 6453.57\n",
      "---------\n",
      "-- Neighborlist stats:\n",
      "9343 normal updates / 1667 forced updates / 0 dangerous updates\n",
      "n_neigh_min: 139 / n_neigh_max: 171 / n_neigh_avg: 154.247\n",
      "shortest rebuild period: 30\n",
      "-- Cell list stats:\n",
      "Dimension: 2, 2, 2\n",
      "n_min    : 101 / n_max: 114 / n_avg: 109.375\n",
      "** run complete **\n"
     ]
    }
   ],
   "source": [
    "timesteps = 5e5\n",
    "hoomd.run(timesteps)"
   ]
  },
  {
   "cell_type": "markdown",
   "metadata": {
    "id": "vItDwIP8DPdw"
   },
   "source": [
    "At the end of the run, it is best practice to store the last configuration. This allows you to continue the simulation from the last step if it turns out, that you require more data for your analysis. Or if your wall time limitations on supercomputer resources."
   ]
  },
  {
   "cell_type": "code",
   "execution_count": 20,
   "metadata": {
    "colab": {
     "base_uri": "https://localhost:8080/"
    },
    "id": "3Y82L0E0SJcb",
    "outputId": "75e5641c-ac92-4e8d-b543-72dc15ba3c5b"
   },
   "outputs": [
    {
     "data": {
      "text/plain": [
       "<hoomd.dump.gsd at 0x7f07c7235150>"
      ]
     },
     "execution_count": 20,
     "metadata": {},
     "output_type": "execute_result"
    }
   ],
   "source": [
    "hoomd.dump.gsd(\"final.gsd\", None, hoomd.group.all(), overwrite=True, truncate=True)"
   ]
  },
  {
   "cell_type": "markdown",
   "metadata": {
    "id": "jaiNo0WJToYH"
   },
   "source": [
    "# Analysis\n",
    "\n",
    "## Visualization\n",
    "\n",
    "We can use tools like Ovito[link text](https://www.ovito.org/) to visualize and inspect the full trajectory. Ovito has a free, open-source version that allows basic functions. A pro version is available but covers only functions that are beyond the scope of this course.\n",
    "\n",
    "Ovito does not integrate seamlessly into this notebook, so we doing this offline.\n",
    "\n",
    "## Plotting of data\n",
    "\n",
    "However, during the simulation run, we stored some quantities in plain text format and we can use numpy and matplotlib to visualize this data.\n"
   ]
  },
  {
   "cell_type": "code",
   "execution_count": 21,
   "metadata": {
    "colab": {
     "base_uri": "https://localhost:8080/"
    },
    "id": "BwnmYH-8Uyt8",
    "outputId": "5408a17e-a3b0-4d21-e8ed-01869cdf4686"
   },
   "outputs": [
    {
     "name": "stdout",
     "output_type": "stream",
     "text": [
      "timestep\ttime\ttemperature\tpressure\tpotential_energy\tkinetic_energy\tbond_harmonic_energy\n",
      "0\t0.127615\t0.9846927374\t71.97658013\t10104.68682\t1290.932179\t3803.499386\n",
      "100\t0.980527\t1.584631204\t80.65461269\t9315.814083\t2077.451509\t3537.49191\n",
      "200\t1.096415\t2.04815984\t90.15203203\t8677.17402\t2685.13755\t3030.238398\n",
      "300\t1.218211\t2.36136644\t98.86919961\t8169.19078\t3095.751403\t2568.434959\n",
      "400\t1.324808\t2.392420601\t101.9783141\t7939.047206\t3136.463408\t2342.503705\n",
      "500\t1.40571\t2.172962337\t98.39953245\t7964.818651\t2848.753624\t2374.393763\n",
      "600\t1.509234\t1.881094226\t93.17900134\t8053.429522\t2466.11453\t2504.378507\n",
      "700\t1.594541\t1.646812396\t89.58774466\t8065.769023\t2158.971051\t2538.842966\n",
      "800\t1.696235\t1.52140828\t88.67597839\t7938.160665\t1994.566255\t2415.379871\n"
     ]
    }
   ],
   "source": [
    "!head obs.txt\n",
    "import matplotlib.pyplot as plt\n",
    "\n",
    "timestep, time, temp, pressure, Epot, Ekin, Ebond = np.loadtxt(\"obs.txt\", skiprows=1, unpack=True)"
   ]
  },
  {
   "cell_type": "markdown",
   "metadata": {
    "id": "c9cI7HqIXJBJ"
   },
   "source": [
    "### Temperature\n",
    "\n",
    "The Nose-Hover thermostat is supposed to keep the temperature at $k_BT=1$, so we can see if that is the case."
   ]
  },
  {
   "cell_type": "code",
   "execution_count": 22,
   "metadata": {
    "colab": {
     "base_uri": "https://localhost:8080/",
     "height": 301
    },
    "id": "pbLOtRfwW0Bt",
    "outputId": "d93e7879-1e78-4834-8b93-f663d098e2c4"
   },
   "outputs": [
    {
     "data": {
      "text/plain": [
       "[<matplotlib.lines.Line2D at 0x7f07befa17d0>]"
      ]
     },
     "execution_count": 22,
     "metadata": {},
     "output_type": "execute_result"
    },
    {
     "data": {
      "image/png": "[encoded data removed]",
      "text/plain": [
       "<Figure size 432x288 with 1 Axes>"
      ]
     },
     "metadata": {
      "needs_background": "light"
     },
     "output_type": "display_data"
    }
   ],
   "source": [
    "fig, ax = plt.subplots()\n",
    "ax.set_xlabel(r\"time [$\\tau$]\")\n",
    "ax.set_ylabel(r\"$T$ [$\\epsilon$]\")\n",
    "ax.plot(time, temp, label=\"instantanenous temeprature\")"
   ]
  },
  {
   "cell_type": "markdown",
   "metadata": {
    "id": "hjxu9uRHX2lF"
   },
   "source": [
    "The observed oscillations are very common for the Nose-Hover algorithm. The time scale of these oscillations should be on the time scale of our friction time of the thermostat $\\tau_\\text{NH} =1 \\tau$. And it is very crucial to equilibrate the system and its temperature before any measurements. Even as the oscillations do not decay completely in this example, we see, that the average temperature we set for the thermostat is achieved.\n",
    "\n",
    "### Pressure\n",
    "\n",
    "Since we perform NVT simulations the thermodynamic variable to volume $V$ pressure $p$ is a result of the simulations.\n",
    "We can visualize this as a function of time.\n"
   ]
  },
  {
   "cell_type": "code",
   "execution_count": 23,
   "metadata": {
    "colab": {
     "base_uri": "https://localhost:8080/",
     "height": 301
    },
    "id": "2IA0gb-CXy00",
    "outputId": "114a5fda-6f0a-4430-8493-8914cd02fa7e"
   },
   "outputs": [
    {
     "name": "stdout",
     "output_type": "stream",
     "text": [
      "94.546606907444 0.7454196924404413\n"
     ]
    },
    {
     "data": {
      "image/png": "[encoded data removed]",
      "text/plain": [
       "<Figure size 432x288 with 1 Axes>"
      ]
     },
     "metadata": {
      "needs_background": "light"
     },
     "output_type": "display_data"
    }
   ],
   "source": [
    "fig, ax = plt.subplots()\n",
    "ax.set_xlabel(r\"time [$\\tau$]\")\n",
    "ax.set_ylabel(r\"$p$ [$\\epsilon/\\sigma^3$]\")\n",
    "ax.plot(time, pressure, label=\"pressure\")\n",
    "print(pressure.mean(), pressure.std())"
   ]
  },
  {
   "cell_type": "markdown",
   "metadata": {
    "id": "rnCOga5maegP"
   },
   "source": [
    "We also observe the unphysical effects of equilibration here at first. After that, we see how the pressure converges to a mean value. We expect this to be a thermal average of the pressure $\\langle p \\rangle$.\n",
    "\n",
    "I print here simply the mean and std for reference for a real analysis we need to remove the equilibration period first and for the error estimation we need to perform a block analysis.\n",
    "\n",
    "### Energy analysis\n",
    "\n",
    "The last analysis we are interested in here is the evolution of energy."
   ]
  },
  {
   "cell_type": "code",
   "execution_count": 24,
   "metadata": {
    "colab": {
     "base_uri": "https://localhost:8080/",
     "height": 301
    },
    "id": "S2TtsDP0aa-x",
    "outputId": "7df548db-2849-47e2-ab63-3d63ac6e9ae7"
   },
   "outputs": [
    {
     "data": {
      "text/plain": [
       "<matplotlib.legend.Legend at 0x7f07bea44510>"
      ]
     },
     "execution_count": 24,
     "metadata": {},
     "output_type": "execute_result"
    },
    {
     "data": {
      "image/png": "[encoded data removed]",
      "text/plain": [
       "<Figure size 432x288 with 1 Axes>"
      ]
     },
     "metadata": {
      "needs_background": "light"
     },
     "output_type": "display_data"
    }
   ],
   "source": [
    "fig, ax = plt.subplots()\n",
    "ax.set_xlabel(r\"time [$\\tau$]\")\n",
    "ax.set_ylabel(r\"$E$ [$\\epsilon$]\")\n",
    "ax.plot(time, Epot, label=r\"$E_\\mathrm{pot.}$\")\n",
    "ax.plot(time, Ekin, label=r\"$E_\\mathrm{kin.}$\")\n",
    "ax.plot(time, Ebond, label=r\"$E_\\mathrm{bond}$\")\n",
    "ax.legend(loc=\"best\")"
   ]
  },
  {
   "cell_type": "markdown",
   "metadata": {
    "id": "Vo-o5ns-cAqC"
   },
   "source": [
    "We see that we start with a very high potential energy, also driven by overstretched bonds. This gets naturally traded for kinetic energy as the forces accelerate the particles. Here kicks the thermostat in and sheds the kinetic energy. This happens in oscillation until the equilibrium average potential and kinetic energies are reached."
   ]
  }
 ],
 "metadata": {
  "accelerator": "GPU",
  "colab": {
   "collapsed_sections": [
    "Bj0t7S1rcPoT"
   ],
   "name": "MENG35500-Start.ipynb",
   "provenance": [],
   "toc_visible": true
  },
  "jupytext": {
   "formats": "ipynb,md",
   "main_language": "python"
  },
  "kernelspec": {
   "display_name": "Python 3",
   "name": "python3"
  },
  "language_info": {
   "name": "python"
  }
 },
 "nbformat": 4,
 "nbformat_minor": 0
}
